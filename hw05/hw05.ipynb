{
  "nbformat": 4,
  "nbformat_minor": 0,
  "metadata": {
    "colab": {
      "name": "hw05.ipynb",
      "provenance": [],
      "authorship_tag": "ABX9TyOT+GSm8XlAk9kOxGHaYkti",
      "include_colab_link": true
    },
    "kernelspec": {
      "name": "python3",
      "display_name": "Python 3"
    }
  },
  "cells": [
    {
      "cell_type": "markdown",
      "metadata": {
        "id": "view-in-github",
        "colab_type": "text"
      },
      "source": [
        "<a href=\"https://colab.research.google.com/github/jPruim/cs344/blob/master/hw05/hw05.ipynb\" target=\"_parent\"><img src=\"https://colab.research.google.com/assets/colab-badge.svg\" alt=\"Open In Colab\"/></a>"
      ]
    },
    {
      "cell_type": "code",
      "metadata": {
        "id": "INKhlsYwi0MI",
        "colab_type": "code",
        "colab": {}
      },
      "source": [
        ""
      ],
      "execution_count": 0,
      "outputs": []
    },
    {
      "cell_type": "markdown",
      "metadata": {
        "id": "QXk82W8LnKKH",
        "colab_type": "text"
      },
      "source": [
        "word(astante,  a,s,t,a,n,t,e).\n",
        "word(astoria,  a,s,t,o,r,i,a).\n",
        "word(baratto,  b,a,r,a,t,t,o).\n",
        "word(cobalto,  c,o,b,a,l,t,o).\n",
        "word(pistola,  p,i,s,t,o,l,a).\n",
        "word(statale,  s,t,a,t,a,l,e).\n",
        "\n",
        "crossword(D1,D2,D3, A1,A2,A3):-\n",
        "    word(A1,_,A1D1,_,A1D2,_,A1D3,_),\n",
        "    word(A2,_,A2D1,_,A2D2,_,A2D3,_),\n",
        "    word(A3,_,A3D1,_,A3D2,_,A3D3,_),\n",
        "    word(D1,_,A1D1,_,A2D1,_,A3D1,_),\n",
        "    word(D2,_,A1D2,_,A2D2,_,A3D2,_),\n",
        "    word(D3,_,A1D3,_,A2D3,_,A3D3,_).\n",
        "\n",
        "?- crossword(D1,D2,D3,A1,A2,A3)\n",
        "\n",
        "A1 = astante,\n",
        "A2 = cobalto,\n",
        "A3 = pistola,\n",
        "D1 = astoria,\n",
        "D2 = baratto,\n",
        "D3 = statale\n"
      ]
    },
    {
      "cell_type": "markdown",
      "metadata": {
        "id": "wBr2P4cKnLoA",
        "colab_type": "text"
      },
      "source": [
        "%% nonterminals\n",
        "\n",
        "s --> l,r.\n",
        "\n",
        "s --> l,s,r.\n",
        "\n",
        "%% terminals\n",
        "\n",
        "l --> [a].\n",
        "\n",
        "r --> [b].\n",
        "\n",
        "\n",
        "So I guess this works just fine in Prolog (it could be coded this way).\n"
      ]
    }
  ]
}