{
  "nbformat": 4,
  "nbformat_minor": 0,
  "metadata": {
    "colab": {
      "name": "lab08_1.ipynb ",
      "provenance": [],
      "authorship_tag": "ABX9TyNNhRaRuIVRFT74XfkkNkxy",
      "include_colab_link": true
    },
    "kernelspec": {
      "name": "python3",
      "display_name": "Python 3"
    }
  },
  "cells": [
    {
      "cell_type": "markdown",
      "metadata": {
        "id": "view-in-github",
        "colab_type": "text"
      },
      "source": [
        "<a href=\"https://colab.research.google.com/github/jPruim/cs344/blob/master/lab08/lab08_1.ipynb\" target=\"_parent\"><img src=\"https://colab.research.google.com/assets/colab-badge.svg\" alt=\"Open In Colab\"/></a>"
      ]
    },
    {
      "cell_type": "code",
      "metadata": {
        "id": "F47qSmwI5QFd",
        "colab_type": "code",
        "colab": {}
      },
      "source": [
        ""
      ],
      "execution_count": 0,
      "outputs": []
    },
    {
      "cell_type": "markdown",
      "metadata": {
        "id": "_iTIn-Fl7UlU",
        "colab_type": "text"
      },
      "source": [
        "**Task 1**\n",
        "\n",
        "First, the counts of everything line up (this is wonderful, but generally shows some pruning of data).\n",
        "It seems strange that a city block can have 1 bedroom. This might be an error? maybe this is including industrial disctricts?\n",
        "Also, rooms per person seems to have a significant inflation between 75 percentile and the max. This seems to indicate another underlying feature or an outlier.\n",
        "Also, there is a rooms per person district that has a min value of zero. This would indicate that there are no rooms or no people (both unlikely).\n",
        "Also, the two data sets are separated by longitude. \n"
      ]
    },
    {
      "cell_type": "markdown",
      "metadata": {
        "id": "pjpf8c_s8117",
        "colab_type": "text"
      },
      "source": [
        "**Task 2**\n",
        "\n",
        "Again, dataset is split based on geographic location. This will then add a bunch of other underlying variables. Including city size to the testing and validation sets. \n",
        "\n"
      ]
    },
    {
      "cell_type": "markdown",
      "metadata": {
        "id": "TbKDgRC69KAW",
        "colab_type": "text"
      },
      "source": [
        "**Task 3**\n",
        "\n",
        "Now the data is split randomly (geographic anomalies should hopefully be the same between the two datasets).\n"
      ]
    },
    {
      "cell_type": "markdown",
      "metadata": {
        "id": "FSrik_1w_pHa",
        "colab_type": "text"
      },
      "source": [
        "**Task 4 and 5**\n",
        "\n",
        "Not sure what the output of 4 should be.\n",
        "\n",
        "For 5. \n",
        "Final RMSE (on test data): 162.38\n",
        "This is slighlty better than I managed to get from one variable, but not significantly so. This would seem to indicate that different hyperparameters would result in a better solution or that the dataset is missing a key parameter/field for predicting the outcome.\n",
        "\n",
        "\n"
      ]
    }
  ]
}