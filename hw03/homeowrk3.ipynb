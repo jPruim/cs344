{
  "nbformat": 4,
  "nbformat_minor": 0,
  "metadata": {
    "colab": {
      "name": "homeowrk3.ipynb",
      "provenance": [],
      "authorship_tag": "ABX9TyPb8JRK7TUjnnv+cgo0IP7V",
      "include_colab_link": true
    },
    "kernelspec": {
      "name": "python3",
      "display_name": "Python 3"
    }
  },
  "cells": [
    {
      "cell_type": "markdown",
      "metadata": {
        "id": "view-in-github",
        "colab_type": "text"
      },
      "source": [
        "<a href=\"https://colab.research.google.com/github/jPruim/cs344/blob/master/hw03/homeowrk3.ipynb\" target=\"_parent\"><img src=\"https://colab.research.google.com/assets/colab-badge.svg\" alt=\"Open In Colab\"/></a>"
      ]
    },
    {
      "cell_type": "code",
      "metadata": {
        "id": "6cc7Op4nLwD6",
        "colab_type": "code",
        "colab": {}
      },
      "source": [
        ""
      ],
      "execution_count": 0,
      "outputs": []
    },
    {
      "cell_type": "markdown",
      "metadata": {
        "id": "CsJwaigyLzx8",
        "colab_type": "text"
      },
      "source": [
        "From the class example. The entropy before the first decision is 1.\n",
        "\n",
        "Price: 12 \n",
        "\n",
        "  $: 7 \n",
        "    y: 3\n",
        "    n: 4\n",
        "  entropy = -(3/7 ln(3/7) + 4/7 ln (4/7) = 0.6829081047\n",
        "  $$: 2 \n",
        "\n",
        "    y: 2\n",
        "    n: 0\n",
        "  entropy = 0\n",
        "\n",
        "  $$$: 3 \n",
        "\n",
        "    y: 1 \n",
        "    n: 2\n",
        "  entropy = -(1/3 * ln (1/3) + 2/3 * ln(2/3)) = 0.63651416829\n",
        "\n",
        "avg: entropy = 7/12 * 0.683 + 2/12 * 0 + 3/12* 0.6365 = 0.55754166666\n",
        "\n",
        "So info gain: 1- 0.558 = 0.442\n",
        "Info gain from patrons is .541\n",
        "However, Type gives no information about the situation. Thus, the Gain = 0. And therefore anything (including hungry) is atleast as good of a question.\n",
        "However, Patrons is significantly better.\n",
        "Thus Patrons > Price > Type\n",
        "\n",
        "\n",
        "\n"
      ]
    },
    {
      "cell_type": "markdown",
      "metadata": {
        "id": "k8d-tCcDPNRz",
        "colab_type": "text"
      },
      "source": [
        "So in class we made a 2 layer network with 6 connections and 3 nodes\n",
        "\n",
        "It is impossible to do in a single layer of linear neural net based on the fact that there is no \"line\" on the graph that separates the 1 and zeros of output. on a graph of inputs. \n",
        "\n",
        "If you were willing to except only values above zero and less than 1.\n",
        "Then adding then 1 node with weights of 0.5 for both would do the trick.\n",
        "\n",
        "Otherwise, it is impossible to simplify the neural net under the acceptance area of x>0. \n",
        "\n",
        "\n",
        "\n"
      ]
    },
    {
      "cell_type": "markdown",
      "metadata": {
        "id": "5Ld46MjfRLCO",
        "colab_type": "text"
      },
      "source": [
        ""
      ]
    },
    {
      "cell_type": "code",
      "metadata": {
        "id": "fFQ-1jE9RO45",
        "colab_type": "code",
        "colab": {
          "base_uri": "https://localhost:8080/",
          "height": 67
        },
        "outputId": "8fa003a9-d807-4a47-fbc5-7625bbc0f956"
      },
      "source": [
        "import keras\n",
        "keras.__version__\n",
        "\n",
        "from keras.datasets import boston_housing\n",
        "(train_data, train_targets), (test_data, test_targets) =  boston_housing.load_data()\n",
        "\n",
        "print( \"Training data shape: \" , train_data.shape)\n",
        "print( \"Test data shape: \", test_data.shape)\n"
      ],
      "execution_count": 9,
      "outputs": [
        {
          "output_type": "stream",
          "text": [
            "TensorFlow is already loaded. Please restart the runtime to change versions.\n",
            "Training data shape:  (404, 13)\n",
            "Test data shape:  (102, 13)\n"
          ],
          "name": "stdout"
        }
      ]
    },
    {
      "cell_type": "markdown",
      "metadata": {
        "id": "5kJ9biWkSrAs",
        "colab_type": "text"
      },
      "source": [
        "From lab example:\n",
        "As you can see, we have 404 training samples and 102 test samples. The data comprises 13 features. The 13 features in the input data are as follow:\n",
        "\n",
        "Per capita crime rate.\n",
        "Proportion of residential land zoned for lots over 25,000 square feet.\n",
        "Proportion of non-retail business acres per town.\n",
        "Charles River dummy variable (= 1 if tract bounds river; 0 otherwise).\n",
        "Nitric oxides concentration (parts per 10 million).\n",
        "Average number of rooms per dwelling.\n",
        "Proportion of owner-occupied units built prior to 1940.\n",
        "Weighted distances to five Boston employment centres.\n",
        "Index of accessibility to radial highways.\n",
        "Full-value property-tax rate per $10,000.\n",
        "Pupil-teacher ratio by town.\n",
        "1000 * (Bk - 0.63) ** 2 where Bk is the proportion of Black people by town.\n",
        "% lower status of the population."
      ]
    },
    {
      "cell_type": "code",
      "metadata": {
        "id": "rcz73rxETtCb",
        "colab_type": "code",
        "colab": {
          "base_uri": "https://localhost:8080/",
          "height": 54
        },
        "outputId": "6daaf934-8994-4d39-99aa-9a8423e2dd1a"
      },
      "source": [
        "#print(train_data[1])\n",
        "#print(train_targets)\n",
        "import math\n",
        "import numpy as np\n",
        "\n",
        "#Add new Charles River larger buildings variable: 1 if on river and rooms per dwelling above 15\n",
        "#Add to training data\n",
        "crl = []\n",
        "for dataset in train_data:\n",
        "  if dataset[3]*dataset[5]>6:\n",
        "    crl.append([1])\n",
        "  else:\n",
        "    crl.append([0])  \n",
        "print(crl)\n",
        "train_data = np.append(train_data, crl, axis=1)\n",
        "#print(train_data[1])\n",
        "#print(len(train_data[1]))\n",
        "\n",
        "#add variable to test data\n",
        "crl = []\n",
        "for dataset in test_data:\n",
        "  if dataset[3]*dataset[5]>6:\n",
        "    crl.append([1])\n",
        "  else:\n",
        "    crl.append([0])  \n",
        "test_data = np.append(test_data, crl, axis=1)\n",
        "\n",
        "validation_data = train_data[300:404]\n",
        "validation_targets = train_targets[300:404]\n",
        "train_data = train_data[0:299]\n",
        "train_targets = train_targets[0:299]\n",
        "#test data is the same as above\n",
        "\n",
        "\n"
      ],
      "execution_count": 32,
      "outputs": [
        {
          "output_type": "stream",
          "text": [
            "[[0], [0], [0], [0], [0], [0], [0], [0], [0], [0], [0], [0], [0], [0], [0], [0], [1], [0], [0], [0], [0], [0], [0], [0], [0], [0], [0], [0], [0], [0], [0], [0], [0], [0], [0], [0], [0], [0], [0], [0], [0], [0], [0], [0], [0], [0], [0], [0], [0], [0], [0], [0], [0], [0], [0], [0], [0], [0], [0], [0], [0], [0], [0], [0], [0], [0], [0], [0], [0], [0], [0], [0], [0], [0], [0], [0], [0], [0], [0], [0], [0], [0], [0], [0], [0], [0], [0], [0], [0], [0], [0], [0], [0], [0], [0], [0], [0], [0], [0], [0], [1], [0], [0], [0], [0], [0], [0], [0], [0], [0], [0], [0], [0], [0], [0], [0], [0], [0], [0], [0], [0], [0], [0], [0], [0], [0], [0], [0], [0], [0], [0], [0], [0], [0], [0], [0], [0], [0], [0], [0], [0], [0], [0], [0], [0], [0], [0], [0], [0], [0], [0], [0], [0], [0], [0], [0], [0], [0], [0], [0], [0], [0], [0], [1], [0], [0], [0], [0], [0], [0], [0], [0], [0], [0], [0], [0], [0], [0], [0], [0], [0], [0], [0], [0], [0], [0], [0], [0], [0], [1], [0], [0], [0], [0], [0], [0], [0], [0], [0], [0], [0], [0], [0], [0], [0], [0], [0], [0], [0], [0], [0], [0], [0], [0], [0], [0], [0], [0], [0], [0], [0], [0], [0], [0], [0], [0], [0], [0], [0], [0], [0], [0], [0], [0], [0], [0], [0], [0], [0], [0], [0], [0], [0], [0], [1], [0], [1], [0], [0], [0], [0], [0], [0], [0], [0], [1], [0], [0], [0], [0], [0], [0], [0], [0], [0], [0], [0], [0], [0], [0], [1], [0], [0], [0], [0], [0], [0], [0], [0], [0], [0], [0], [0], [0], [0], [0], [0], [0], [0], [0], [0], [0], [0], [0], [0], [0], [0], [0], [0]]\n"
          ],
          "name": "stdout"
        }
      ]
    },
    {
      "cell_type": "markdown",
      "metadata": {
        "id": "4joyK7Wahk2d",
        "colab_type": "text"
      },
      "source": [
        "This variable might be useful (the crl variable) because it identifies zones that are on the river, and average a higher number of rooms per dwelling. This then could identify either apartment buildings or larger homesteads (depending on how rooms per dwelling is defined). Based on my interpretation, this could likely separate studio apratment zones from higher end apartments/residences."
      ]
    }
  ]
}