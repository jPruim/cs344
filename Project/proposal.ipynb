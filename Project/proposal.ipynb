{
  "nbformat": 4,
  "nbformat_minor": 0,
  "metadata": {
    "colab": {
      "name": "proposal.ipynb",
      "provenance": [],
      "authorship_tag": "ABX9TyMpKQXbmP01qQA7mlhBr71n",
      "include_colab_link": true
    },
    "kernelspec": {
      "name": "python3",
      "display_name": "Python 3"
    }
  },
  "cells": [
    {
      "cell_type": "markdown",
      "metadata": {
        "id": "view-in-github",
        "colab_type": "text"
      },
      "source": [
        "<a href=\"https://colab.research.google.com/github/jPruim/cs344/blob/master/Project/proposal.ipynb\" target=\"_parent\"><img src=\"https://colab.research.google.com/assets/colab-badge.svg\" alt=\"Open In Colab\"/></a>"
      ]
    },
    {
      "cell_type": "code",
      "metadata": {
        "id": "651intGaodaz",
        "colab_type": "code",
        "colab": {}
      },
      "source": [
        ""
      ],
      "execution_count": 0,
      "outputs": []
    },
    {
      "cell_type": "markdown",
      "metadata": {
        "id": "WEn3sDvTpAhP",
        "colab_type": "text"
      },
      "source": [
        "For the final project, I plan on creating a program that takes music data, and learns to approximate the next notes based on the previous notes, and then will be able to compose a piece of music. I am planning on using the Music Net database found here: https://homes.cs.washington.edu/~thickstn/musicnet.html\n",
        "There is an example in python using sklearn.\n",
        "\n",
        "To do this modeling, I hope to use an LSTM model. This type of model is specifically designed to be able to take past inputs and use them to predict the next value in a \"sliding window\" of inputs. Ideally, once the model is trained on the dataset, the user can input the first few notes, and generate a song. As of now, I am currently unsure of how the final output will be turned into playable audio or score music, but I believe I can figure something out."
      ]
    }
  ]
}