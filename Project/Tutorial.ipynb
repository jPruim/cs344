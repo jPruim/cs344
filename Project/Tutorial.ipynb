{
  "nbformat": 4,
  "nbformat_minor": 0,
  "metadata": {
    "colab": {
      "name": "Tutorial.ipynb",
      "provenance": [],
      "collapsed_sections": [],
      "machine_shape": "hm",
      "authorship_tag": "ABX9TyNqF5uwIo2ld90d3H0ILKLk",
      "include_colab_link": true
    },
    "kernelspec": {
      "name": "python3",
      "display_name": "Python 3"
    }
  },
  "cells": [
    {
      "cell_type": "markdown",
      "metadata": {
        "id": "view-in-github",
        "colab_type": "text"
      },
      "source": [
        "<a href=\"https://colab.research.google.com/github/jPruim/cs344/blob/master/Project/Tutorial.ipynb\" target=\"_parent\"><img src=\"https://colab.research.google.com/assets/colab-badge.svg\" alt=\"Open In Colab\"/></a>"
      ]
    },
    {
      "cell_type": "code",
      "metadata": {
        "id": "Lk12Z1fnxk_y",
        "colab_type": "code",
        "colab": {}
      },
      "source": [
        "import numpy as np                                       # fast vectors and matrices\n",
        "import matplotlib.pyplot as plt                          # plotting\n",
        "\n",
        "from IPython.display import Audio\n",
        "\n",
        "from intervaltree import Interval,IntervalTree\n",
        "\n",
        "%matplotlib inline\n",
        "fs = 44100      # samples/second\n"
      ],
      "execution_count": 0,
      "outputs": []
    },
    {
      "cell_type": "code",
      "metadata": {
        "id": "vuf-N-pbzuli",
        "colab_type": "code",
        "colab": {}
      },
      "source": [
        "# Import PyDrive and associated libraries.\n",
        "# This only needs to be done once per notebook.\n",
        "from pydrive.auth import GoogleAuth\n",
        "from pydrive.drive import GoogleDrive\n",
        "from google.colab import auth\n",
        "from oauth2client.client import GoogleCredentials\n",
        "\n",
        "# Authenticate and create the PyDrive client.\n",
        "# This only needs to be done once per notebook.\n",
        "auth.authenticate_user()\n",
        "gauth = GoogleAuth()\n",
        "gauth.credentials = GoogleCredentials.get_application_default()\n",
        "drive = GoogleDrive(gauth)\n",
        "\n"
      ],
      "execution_count": 0,
      "outputs": []
    },
    {
      "cell_type": "code",
      "metadata": {
        "id": "bo08F2hZz4FG",
        "colab_type": "code",
        "colab": {}
      },
      "source": [
        "# Download a file based on its file ID.\n",
        "#\n",
        "# A file ID looks like: laggVyWshwcyP6kEI-y_W3P8D26sz\n",
        "file_id = '1fZkouwSFidMW-dr6HbJjkkMDx2wGR4XQ'\n",
        "downloaded = drive.CreateFile({'id': file_id})\n",
        "print('Downloaded content \"{}\"'.format(downloaded.GetContentString()))"
      ],
      "execution_count": 0,
      "outputs": []
    },
    {
      "cell_type": "code",
      "metadata": {
        "id": "SaFbrh_wz52-",
        "colab_type": "code",
        "colab": {}
      },
      "source": [
        "train_data = np.load(open('../musicnet.npz','rb'))"
      ],
      "execution_count": 0,
      "outputs": []
    },
    {
      "cell_type": "code",
      "metadata": {
        "id": "9GCqEdMp0iXB",
        "colab_type": "code",
        "colab": {}
      },
      "source": [
        "print 'Number of recordings: ' + str(len(train_data.files))\n",
        "print 'Example MusicNet ids: ' + str(train_data.keys()[0:5])"
      ],
      "execution_count": 0,
      "outputs": []
    },
    {
      "cell_type": "code",
      "metadata": {
        "id": "O0_GOH-N0kpc",
        "colab_type": "code",
        "colab": {}
      },
      "source": [
        "X,Y = train_data['2494'] # data X and labels Y for recording id 2494\n",
        "print type(X)\n",
        "print type(Y)"
      ],
      "execution_count": 0,
      "outputs": []
    },
    {
      "cell_type": "code",
      "metadata": {
        "id": "BHgeDGYo0lco",
        "colab_type": "code",
        "colab": {}
      },
      "source": [
        "fig = plt.figure()\n",
        "fig.set_figwidth(20)\n",
        "fig.set_figheight(2)\n",
        "plt.plot(X[0:30*fs],color=(41/255.,104/255.,168/255.))\n",
        "fig.axes[0].set_xlim([0,30*fs])\n",
        "fig.axes[0].set_xlabel('sample (44,100Hz)')\n",
        "fig.axes[0].set_ylabel('amplitude')"
      ],
      "execution_count": 0,
      "outputs": []
    },
    {
      "cell_type": "code",
      "metadata": {
        "id": "aFfMGdzG0oZn",
        "colab_type": "code",
        "colab": {}
      },
      "source": [
        "Audio(X[0:30*fs],rate=fs)"
      ],
      "execution_count": 0,
      "outputs": []
    },
    {
      "cell_type": "code",
      "metadata": {
        "id": "C41y0v1y0rTu",
        "colab_type": "code",
        "colab": {}
      },
      "source": [
        "print 'Notes present at sample ' + str(fs*5) + ' (5 seconds): ' + str(len(Y[fs*5]))\n"
      ],
      "execution_count": 0,
      "outputs": []
    },
    {
      "cell_type": "code",
      "metadata": {
        "id": "BMdXlQOl0tO2",
        "colab_type": "code",
        "colab": {}
      },
      "source": [
        "print 'Notes present at sample ' + str(fs*4) + ' (4 seconds): ' + str(len(Y[fs*4]))\n"
      ],
      "execution_count": 0,
      "outputs": []
    },
    {
      "cell_type": "code",
      "metadata": {
        "id": "0KiYyCfP0v4P",
        "colab_type": "code",
        "colab": {}
      },
      "source": [
        "(start,end,(instrument,note,measure,beat,note_value)) = sorted(Y[fs*5])[0]\n",
        "print ' -- An example of a MusicNet label -- '\n",
        "print ' Start Time:                          ' + str(start)\n",
        "print ' End Time:                            ' + str(end)\n",
        "print ' Instrument (MIDI instrument code):   ' + str(instrument)\n",
        "print ' Note (MIDI note code):               ' + str(note)\n",
        "print ' Measure:                             ' + str(measure)\n",
        "print ' Beat (0 <= beat < 1):                ' + str(beat)\n",
        "print ' Note Value:                          ' + str(note_value)"
      ],
      "execution_count": 0,
      "outputs": []
    },
    {
      "cell_type": "code",
      "metadata": {
        "id": "u2pxDdAm0x1Q",
        "colab_type": "code",
        "colab": {}
      },
      "source": [
        "\n",
        "stride = 512                         # 512 samples between windows\n",
        "wps = fs/float(stride)               # ~86 windows/second\n",
        "Yvec = np.zeros((int(30*wps),128))   # 128 distinct note labels\n",
        "colors = {41 : .33, 42 : .66, 43 : 1}\n",
        "\n",
        "for window in range(Yvec.shape[0]):\n",
        "    labels = Y[window*stride]\n",
        "    for label in labels:\n",
        "        Yvec[window,label.data[1]] = colors[label.data[0]]"
      ],
      "execution_count": 0,
      "outputs": []
    },
    {
      "cell_type": "code",
      "metadata": {
        "id": "9zN60gj400uG",
        "colab_type": "code",
        "colab": {}
      },
      "source": [
        "fig = plt.figure(figsize=(20,5))\n",
        "plt.imshow(Yvec.T,aspect='auto',cmap='ocean_r')\n",
        "plt.gca().invert_yaxis()\n",
        "fig.axes[0].set_xlabel('window')\n",
        "fig.axes[0].set_ylabel('note (MIDI code)')"
      ],
      "execution_count": 0,
      "outputs": []
    },
    {
      "cell_type": "code",
      "metadata": {
        "id": "JjPJVMVO1Gtv",
        "colab_type": "code",
        "colab": {}
      },
      "source": [
        "mix_size=4096\n",
        "\n",
        "labels = np.zeros(X.shape)\n",
        "for (onset,offset,label) in sorted(Y):\n",
        "    freq = 440.*2**((label[1] - 69.)/12.)\n",
        "    mark = np.sin(freq*2.*np.pi*np.arange(0,mix_size)/float(fs))\n",
        "    if onset + len(mark) < len(labels):\n",
        "        labels[onset:onset+mix_size] += mark\n",
        "        \n",
        "labels /= np.max(labels)\n",
        "\n",
        "mix = .8*labels + .2*X"
      ],
      "execution_count": 0,
      "outputs": []
    },
    {
      "cell_type": "code",
      "metadata": {
        "id": "BLVrPEXV1InM",
        "colab_type": "code",
        "colab": {}
      },
      "source": [
        "Audio(mix[0:30*fs],rate=fs)\n"
      ],
      "execution_count": 0,
      "outputs": []
    }
  ]
}