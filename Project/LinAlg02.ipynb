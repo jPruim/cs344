{
  "nbformat": 4,
  "nbformat_minor": 0,
  "metadata": {
    "colab": {
      "name": "LinAlg01.ipynb",
      "provenance": [],
      "collapsed_sections": [],
      "authorship_tag": "ABX9TyMnEwNlaGvtRgt5VtrXXhRb",
      "include_colab_link": true
    },
    "kernelspec": {
      "name": "python3",
      "display_name": "Python 3"
    }
  },
  "cells": [
    {
      "cell_type": "markdown",
      "metadata": {
        "id": "view-in-github",
        "colab_type": "text"
      },
      "source": [
        "<a href=\"https://colab.research.google.com/github/jPruim/cs344/blob/master/Project/LinAlg02.ipynb\" target=\"_parent\"><img src=\"https://colab.research.google.com/assets/colab-badge.svg\" alt=\"Open In Colab\"/></a>"
      ]
    },
    {
      "cell_type": "markdown",
      "metadata": {
        "id": "7JTlkJz7LeWC",
        "colab_type": "text"
      },
      "source": [
        "Proposal:\n",
        "Use neural networks to try and solve common and less common linear algebra problems. This will involve using neural nets and CNN's to try and see how few nodes are necessary to solve some problems.\n",
        "\n",
        "Specifically I hope to investigate determinants, eigenvalues, and inverses for matrices. Also, I hope to be able to attempt to do a decomposition. Part of the project is determining whether or not it is possible to do some of these approximations."
      ]
    },
    {
      "cell_type": "code",
      "metadata": {
        "id": "Our_qENHQKdO",
        "colab_type": "code",
        "colab": {}
      },
      "source": [
        "import numpy as np\n",
        "from keras import layers\n",
        "from keras import models\n",
        "from keras.layers.advanced_activations import LeakyReLU\n",
        "import numpy.linalg as linalg"
      ],
      "execution_count": 0,
      "outputs": []
    },
    {
      "cell_type": "code",
      "metadata": {
        "id": "wLjwN7XsUhmf",
        "colab_type": "code",
        "outputId": "eb802746-7381-4083-bf3d-e89fcb2a8dfb",
        "colab": {
          "base_uri": "https://localhost:8080/",
          "height": 302
        }
      },
      "source": [
        "#create datasets, normalized arrays of n^2 size.\n",
        "#Thus all values are between -1 and 1\n",
        "#No third set needed as the sets are random and different each time anyway\n",
        "n = 7\n",
        "train_set_size = 40000\n",
        "train_set=np.random.random(size=(train_set_size, n, n))*2-1\n",
        "\n",
        "val_set_size = 10000\n",
        "val_set=np.random.random(size=(val_set_size, n, n))*2-1\n",
        "\n",
        "#print shape\n",
        "print(train_set[:1])\n",
        "print(len(train_set))\n",
        "\n",
        "\n",
        "\n",
        "#Shaped for simple neural networks\n",
        "train_set2 = np.empty((train_set_size,n**2))\n",
        "for i in range(train_set_size):\n",
        "  train_set2[i] = np.ravel(train_set[i])\n",
        "train_set2.reshape(train_set_size,n**2,1)\n",
        "print(train_set2.shape)\n",
        "\n",
        "val_set2 = np.empty((val_set_size,n**2))\n",
        "for i in range(val_set_size):\n",
        "  val_set2[i] = np.ravel(val_set[i])\n",
        "val_set2.reshape(val_set_size,n**2,1)\n",
        "print(val_set2.shape)\n",
        "\n",
        "#Shaped for CNN neural networks\n",
        "train_set3 = train_set.reshape(train_set_size,n,n,1)\n",
        "val_set3 = val_set.reshape(val_set_size,n,n,1)\n"
      ],
      "execution_count": 45,
      "outputs": [
        {
          "output_type": "stream",
          "text": [
            "[[[ 0.08100883 -0.09832539 -0.23903097  0.0704677  -0.29418192\n",
            "    0.26060713 -0.46434745]\n",
            "  [-0.32374422 -0.0757782   0.78429317  0.0351878   0.89129148\n",
            "   -0.38159363 -0.80601021]\n",
            "  [-0.91122261 -0.94162794 -0.97734409  0.00102184  0.15422242\n",
            "   -0.79000496  0.15099852]\n",
            "  [ 0.53181025  0.12584413  0.0493785   0.19446916  0.54556067\n",
            "    0.6990849  -0.81894988]\n",
            "  [-0.77077547 -0.37407564  0.46348771 -0.63890725  0.83017821\n",
            "   -0.56079956  0.93245966]\n",
            "  [ 0.64292497  0.6829567  -0.879071   -0.4623105  -0.23462356\n",
            "   -0.2515304  -0.72694737]\n",
            "  [-0.13067754 -0.70919966  0.31260706 -0.74580409  0.30999527\n",
            "    0.53212448 -0.74992097]]]\n",
            "40000\n",
            "(40000, 49)\n",
            "(10000, 49)\n"
          ],
          "name": "stdout"
        }
      ]
    },
    {
      "cell_type": "code",
      "metadata": {
        "id": "KSWuqnlXYM_u",
        "colab_type": "code",
        "outputId": "b106327e-0e5c-483f-bff6-d4ab24aa0123",
        "colab": {
          "base_uri": "https://localhost:8080/",
          "height": 50
        }
      },
      "source": [
        "#generate determinant labels\n",
        "determinant_set_size = train_set_size\n",
        "determinant_set = np.empty((determinant_set_size,1))\n",
        "determinant_abs_set  = np.empty((determinant_set_size,1))\n",
        "for i in range(0,determinant_set_size): \n",
        "  determinant_set[i]=linalg.det(train_set[i])\n",
        "  determinant_abs_set[i] = abs(determinant_set[i])\n",
        "\n",
        "print(sum(determinant_abs_set) / len(determinant_set))\n",
        "val_determinant_set_size = val_set_size\n",
        "val_determinant_set = np.empty((val_set_size,1))\n",
        "for i in range(0,val_determinant_set_size): \n",
        "  val_determinant_set[i]= linalg.det(val_set[i])\n",
        "\n",
        "print(determinant_set.shape)"
      ],
      "execution_count": 46,
      "outputs": [
        {
          "output_type": "stream",
          "text": [
            "[0.92339563]\n",
            "(40000, 1)\n"
          ],
          "name": "stdout"
        }
      ]
    },
    {
      "cell_type": "code",
      "metadata": {
        "id": "DyTNtRurZtS9",
        "colab_type": "code",
        "outputId": "5829144c-fa1c-4cc1-8995-0da9d742825b",
        "colab": {
          "base_uri": "https://localhost:8080/",
          "height": 84
        }
      },
      "source": [
        "#generate eigenvalue labels\n",
        "eigenvalue_set_size = train_set_size\n",
        "eigenvalue_set = np.empty((eigenvalue_set_size,n))\n",
        "for i in range(0,train_set_size):\n",
        "  eigenValues= linalg.eigvals(train_set[i])\n",
        "  eigenvalue_set[i]= eigenValues\n",
        "\n",
        "val_eigenvalue_set_size = val_set_size\n",
        "val_eigenvalue_set = np.empty((val_eigenvalue_set_size,n))\n",
        "for i in range(0,val_eigenvalue_set_size): \n",
        "  eigenValues = linalg.eigvals(train_set[i])\n",
        "  val_eigenvalue_set[i]= eigenValues"
      ],
      "execution_count": 47,
      "outputs": [
        {
          "output_type": "stream",
          "text": [
            "/usr/local/lib/python3.6/dist-packages/ipykernel_launcher.py:6: ComplexWarning: Casting complex values to real discards the imaginary part\n",
            "  \n",
            "/usr/local/lib/python3.6/dist-packages/ipykernel_launcher.py:12: ComplexWarning: Casting complex values to real discards the imaginary part\n",
            "  if sys.path[0] == '':\n"
          ],
          "name": "stderr"
        }
      ]
    },
    {
      "cell_type": "code",
      "metadata": {
        "id": "ktg3KA1-aHlA",
        "colab_type": "code",
        "outputId": "d5f65584-8d8a-4a9f-bf71-b2039b5faf6e",
        "colab": {
          "base_uri": "https://localhost:8080/",
          "height": 386
        }
      },
      "source": [
        "#start modeling.\n",
        "#determinant modeling 1\n",
        "detmodel = models.Sequential()\n",
        "\n",
        "detmodel.add(layers.Dense(n**2, activation='relu',input_dim=n**2))\n",
        "detmodel.add(layers.Dense(50, activation='relu'))\n",
        "detmodel.add(layers.Dense(50, activation='relu'))\n",
        "detmodel.add(layers.Dense(50, activation='relu'))\n",
        "detmodel.add(layers.Dense(50, activation='relu'))\n",
        "detmodel.add(layers.Dense(50, activation='relu'))\n",
        "# model.add(layers.Dense(50, activation='relu'))\n",
        "detmodel.add(layers.Dense(1, activation='relu'))\n",
        "detmodel.compile(optimizer='adam',\n",
        "              loss='mean_squared_error')\n",
        "detmodel.summary()\n"
      ],
      "execution_count": 49,
      "outputs": [
        {
          "output_type": "stream",
          "text": [
            "Model: \"sequential_23\"\n",
            "_________________________________________________________________\n",
            "Layer (type)                 Output Shape              Param #   \n",
            "=================================================================\n",
            "dense_84 (Dense)             (None, 49)                2450      \n",
            "_________________________________________________________________\n",
            "dense_85 (Dense)             (None, 50)                2500      \n",
            "_________________________________________________________________\n",
            "dense_86 (Dense)             (None, 50)                2550      \n",
            "_________________________________________________________________\n",
            "dense_87 (Dense)             (None, 50)                2550      \n",
            "_________________________________________________________________\n",
            "dense_88 (Dense)             (None, 50)                2550      \n",
            "_________________________________________________________________\n",
            "dense_89 (Dense)             (None, 50)                2550      \n",
            "_________________________________________________________________\n",
            "dense_90 (Dense)             (None, 1)                 51        \n",
            "=================================================================\n",
            "Total params: 15,201\n",
            "Trainable params: 15,201\n",
            "Non-trainable params: 0\n",
            "_________________________________________________________________\n"
          ],
          "name": "stdout"
        }
      ]
    },
    {
      "cell_type": "code",
      "metadata": {
        "id": "OWA5a9M8-6ny",
        "colab_type": "code",
        "colab": {
          "base_uri": "https://localhost:8080/",
          "height": 538
        },
        "outputId": "84092fc4-943f-490b-e991-fbe5a54f87a2"
      },
      "source": [
        "#Simple NN model for determinant with Relu\n",
        "detmodel.fit(train_set2, determinant_set, epochs=5, batch_size=100)\n",
        "detmodel.evaluate(val_set2, val_determinant_set)\n",
        "print(detmodel.predict(val_set2[:10]))\n",
        "print(val_determinant_set[:10])"
      ],
      "execution_count": 50,
      "outputs": [
        {
          "output_type": "stream",
          "text": [
            "Epoch 1/5\n",
            "40000/40000 [==============================] - 1s 22us/step - loss: 2.2294\n",
            "Epoch 2/5\n",
            "40000/40000 [==============================] - 1s 18us/step - loss: 2.2291\n",
            "Epoch 3/5\n",
            "40000/40000 [==============================] - 1s 18us/step - loss: 2.2291\n",
            "Epoch 4/5\n",
            "40000/40000 [==============================] - 1s 17us/step - loss: 2.2291\n",
            "Epoch 5/5\n",
            "40000/40000 [==============================] - 1s 19us/step - loss: 2.2291\n",
            "10000/10000 [==============================] - 0s 20us/step\n",
            "[[0.]\n",
            " [0.]\n",
            " [0.]\n",
            " [0.]\n",
            " [0.]\n",
            " [0.]\n",
            " [0.]\n",
            " [0.]\n",
            " [0.]\n",
            " [0.]]\n",
            "[[-0.52567272]\n",
            " [ 1.23726643]\n",
            " [ 2.63876382]\n",
            " [ 0.09930698]\n",
            " [-1.00736075]\n",
            " [ 0.07695806]\n",
            " [-0.10954239]\n",
            " [ 0.14228992]\n",
            " [-0.24531103]\n",
            " [-1.06054693]]\n"
          ],
          "name": "stdout"
        }
      ]
    },
    {
      "cell_type": "code",
      "metadata": {
        "id": "CGoy64OH-lgD",
        "colab_type": "code",
        "colab": {
          "base_uri": "https://localhost:8080/",
          "height": 406
        },
        "outputId": "434ba156-b158-4331-a4ae-71302cceb2b0"
      },
      "source": [
        "#start modeling.\n",
        "#determinant modeling\n",
        "detmodel2 = models.Sequential()\n",
        "\n",
        "detmodel2.add(layers.Dense(n**2, activation=LeakyReLU(alpha=0.5),input_dim=n**2))\n",
        "detmodel2.add(layers.Dense(n**3, activation=LeakyReLU(alpha=0.3)))\n",
        "detmodel2.add(layers.Dense(n**3, activation=LeakyReLU(alpha=0.3)))\n",
        "detmodel2.add(layers.Dense(n**2, activation=LeakyReLU(alpha=0.3)))\n",
        "detmodel2.add(layers.Dense(n**2, activation=LeakyReLU(alpha=0.5)))\n",
        "# detmodel2.add(layers.Dense(50, activation='relu'))\n",
        "# detmodel2.add(layers.Dense(50, activation='relu'))\n",
        "detmodel2.add(layers.Dense(1, activation=LeakyReLU(alpha=0.5)))\n",
        "detmodel2.compile(optimizer='adam',\n",
        "              loss='mean_squared_error')\n",
        "detmodel2.summary()\n",
        "\n"
      ],
      "execution_count": 63,
      "outputs": [
        {
          "output_type": "stream",
          "text": [
            "Model: \"sequential_28\"\n",
            "_________________________________________________________________\n",
            "Layer (type)                 Output Shape              Param #   \n",
            "=================================================================\n",
            "dense_107 (Dense)            (None, 49)                2450      \n",
            "_________________________________________________________________\n",
            "dense_108 (Dense)            (None, 343)               17150     \n",
            "_________________________________________________________________\n",
            "dense_109 (Dense)            (None, 343)               117992    \n",
            "_________________________________________________________________\n",
            "dense_110 (Dense)            (None, 49)                16856     \n",
            "_________________________________________________________________\n",
            "dense_111 (Dense)            (None, 49)                2450      \n",
            "_________________________________________________________________\n",
            "dense_112 (Dense)            (None, 1)                 50        \n",
            "=================================================================\n",
            "Total params: 156,948\n",
            "Trainable params: 156,948\n",
            "Non-trainable params: 0\n",
            "_________________________________________________________________\n"
          ],
          "name": "stdout"
        },
        {
          "output_type": "stream",
          "text": [
            "/usr/local/lib/python3.6/dist-packages/keras/activations.py:235: UserWarning: Do not pass a layer instance (such as LeakyReLU) as the activation argument of another layer. Instead, advanced activation layers should be used just like any other layer in a model.\n",
            "  identifier=identifier.__class__.__name__))\n"
          ],
          "name": "stderr"
        }
      ]
    },
    {
      "cell_type": "code",
      "metadata": {
        "id": "Gklo_Z5Mi-Ww",
        "colab_type": "code",
        "outputId": "940ae416-6f16-49b2-bbe0-3521e468ced0",
        "colab": {
          "base_uri": "https://localhost:8080/",
          "height": 1000
        }
      },
      "source": [
        "#Simple NN model for determinant with Leaky RelU\n",
        "detmodel2.fit(train_set2, determinant_set, epochs=50, batch_size=1000)\n",
        "detmodel2.evaluate(val_set2, val_determinant_set)\n",
        "\n",
        "print(\"On Training data\")\n",
        "print(detmodel2.predict(val_set2[:5]))\n",
        "print(val_determinant_set[:5])\n",
        "\n",
        "print(\"On Validation data\")\n",
        "print(detmodel2.predict(val_set2[:5]))\n",
        "print(val_determinant_set[:5])"
      ],
      "execution_count": 66,
      "outputs": [
        {
          "output_type": "stream",
          "text": [
            "Epoch 1/50\n",
            "40000/40000 [==============================] - 1s 29us/step - loss: 1.4669\n",
            "Epoch 2/50\n",
            "40000/40000 [==============================] - 1s 28us/step - loss: 1.4113\n",
            "Epoch 3/50\n",
            "40000/40000 [==============================] - 1s 29us/step - loss: 1.3628\n",
            "Epoch 4/50\n",
            "40000/40000 [==============================] - 1s 28us/step - loss: 1.3238\n",
            "Epoch 5/50\n",
            "40000/40000 [==============================] - 1s 29us/step - loss: 1.2969\n",
            "Epoch 6/50\n",
            "40000/40000 [==============================] - 1s 29us/step - loss: 1.2826\n",
            "Epoch 7/50\n",
            "40000/40000 [==============================] - 1s 29us/step - loss: 1.2313\n",
            "Epoch 8/50\n",
            "40000/40000 [==============================] - 1s 28us/step - loss: 1.2328\n",
            "Epoch 9/50\n",
            "40000/40000 [==============================] - 1s 28us/step - loss: 1.1630\n",
            "Epoch 10/50\n",
            "40000/40000 [==============================] - 1s 29us/step - loss: 1.1800\n",
            "Epoch 11/50\n",
            "40000/40000 [==============================] - 1s 28us/step - loss: 1.1132\n",
            "Epoch 12/50\n",
            "40000/40000 [==============================] - 1s 29us/step - loss: 1.0927\n",
            "Epoch 13/50\n",
            "40000/40000 [==============================] - 1s 29us/step - loss: 1.0829\n",
            "Epoch 14/50\n",
            "40000/40000 [==============================] - 1s 28us/step - loss: 1.0334\n",
            "Epoch 15/50\n",
            "40000/40000 [==============================] - 1s 28us/step - loss: 1.0180\n",
            "Epoch 16/50\n",
            "40000/40000 [==============================] - 1s 28us/step - loss: 0.9830\n",
            "Epoch 17/50\n",
            "40000/40000 [==============================] - 1s 28us/step - loss: 0.9546\n",
            "Epoch 18/50\n",
            "40000/40000 [==============================] - 1s 28us/step - loss: 0.9352\n",
            "Epoch 19/50\n",
            "40000/40000 [==============================] - 1s 28us/step - loss: 0.9242\n",
            "Epoch 20/50\n",
            "40000/40000 [==============================] - 1s 29us/step - loss: 0.9151\n",
            "Epoch 21/50\n",
            "40000/40000 [==============================] - 1s 29us/step - loss: 0.8951\n",
            "Epoch 22/50\n",
            "40000/40000 [==============================] - 1s 29us/step - loss: 0.8476\n",
            "Epoch 23/50\n",
            "40000/40000 [==============================] - 1s 28us/step - loss: 0.8347\n",
            "Epoch 24/50\n",
            "40000/40000 [==============================] - 1s 29us/step - loss: 0.8247\n",
            "Epoch 25/50\n",
            "40000/40000 [==============================] - 1s 29us/step - loss: 0.8136\n",
            "Epoch 26/50\n",
            "40000/40000 [==============================] - 1s 29us/step - loss: 0.7810\n",
            "Epoch 27/50\n",
            "40000/40000 [==============================] - 1s 29us/step - loss: 0.7760\n",
            "Epoch 28/50\n",
            "40000/40000 [==============================] - 1s 29us/step - loss: 0.7558\n",
            "Epoch 29/50\n",
            "40000/40000 [==============================] - 1s 28us/step - loss: 0.7481\n",
            "Epoch 30/50\n",
            "40000/40000 [==============================] - 1s 29us/step - loss: 0.7490\n",
            "Epoch 31/50\n",
            "40000/40000 [==============================] - 1s 29us/step - loss: 0.7268\n",
            "Epoch 32/50\n",
            "40000/40000 [==============================] - 1s 29us/step - loss: 0.7000\n",
            "Epoch 33/50\n",
            "40000/40000 [==============================] - 1s 29us/step - loss: 0.7051\n",
            "Epoch 34/50\n",
            "40000/40000 [==============================] - 1s 28us/step - loss: 0.6832\n",
            "Epoch 35/50\n",
            "40000/40000 [==============================] - 1s 29us/step - loss: 0.6678\n",
            "Epoch 36/50\n",
            "40000/40000 [==============================] - 1s 29us/step - loss: 0.6480\n",
            "Epoch 37/50\n",
            "40000/40000 [==============================] - 1s 28us/step - loss: 0.6338\n",
            "Epoch 38/50\n",
            "40000/40000 [==============================] - 1s 29us/step - loss: 0.6142\n",
            "Epoch 39/50\n",
            "40000/40000 [==============================] - 1s 29us/step - loss: 0.5946\n",
            "Epoch 40/50\n",
            "40000/40000 [==============================] - 1s 29us/step - loss: 0.5891\n",
            "Epoch 41/50\n",
            "40000/40000 [==============================] - 1s 29us/step - loss: 0.5855\n",
            "Epoch 42/50\n",
            "40000/40000 [==============================] - 1s 28us/step - loss: 0.5705\n",
            "Epoch 43/50\n",
            "40000/40000 [==============================] - 1s 29us/step - loss: 0.5766\n",
            "Epoch 44/50\n",
            "40000/40000 [==============================] - 1s 29us/step - loss: 0.5573\n",
            "Epoch 45/50\n",
            "40000/40000 [==============================] - 1s 28us/step - loss: 0.5440\n",
            "Epoch 46/50\n",
            "40000/40000 [==============================] - 1s 28us/step - loss: 0.5584\n",
            "Epoch 47/50\n",
            "40000/40000 [==============================] - 1s 28us/step - loss: 0.5359\n",
            "Epoch 48/50\n",
            "40000/40000 [==============================] - 1s 29us/step - loss: 0.5080\n",
            "Epoch 49/50\n",
            "40000/40000 [==============================] - 1s 29us/step - loss: 0.4817\n",
            "Epoch 50/50\n",
            "40000/40000 [==============================] - 1s 28us/step - loss: 0.4914\n",
            "10000/10000 [==============================] - 0s 31us/step\n",
            "On Training data\n",
            "[[-1.3302268 ]\n",
            " [-1.7276105 ]\n",
            " [-1.161311  ]\n",
            " [-1.1501895 ]\n",
            " [-0.74160624]]\n",
            "[[-0.52567272]\n",
            " [ 1.23726643]\n",
            " [ 2.63876382]\n",
            " [ 0.09930698]\n",
            " [-1.00736075]]\n",
            "On Validation data\n",
            "[[-1.3302268 ]\n",
            " [-1.7276105 ]\n",
            " [-1.161311  ]\n",
            " [-1.1501895 ]\n",
            " [-0.74160624]]\n",
            "[[-0.52567272]\n",
            " [ 1.23726643]\n",
            " [ 2.63876382]\n",
            " [ 0.09930698]\n",
            " [-1.00736075]]\n"
          ],
          "name": "stdout"
        }
      ]
    },
    {
      "cell_type": "code",
      "metadata": {
        "id": "-zjqDI2I_ikz",
        "colab_type": "code",
        "colab": {}
      },
      "source": [
        "detCNNmodel = models.Sequential()\n",
        "detCNNmodel.add(layers.Conv2D((n-2)**2, (3, 3), activation='relu', input_shape=(n, n,1)))\n",
        "detCNNmodel.add(layers.MaxPooling2D((2, 2)))\n",
        "# Add layers to flatten the 2D image and then do a 10-way classification.\n",
        "detCNNmodel.add(layers.Flatten())\n",
        "detCNNmodel.add(layers.Dense(n**2, activation='relu'))\n",
        "detCNNmodel.add(layers.Dense(1, activation='relu'))\n",
        "detCNNmodel.compile(optimizer='adam',\n",
        "              loss='mean_squared_error')\n",
        "\n",
        "detCNNmodel.summary()"
      ],
      "execution_count": 0,
      "outputs": []
    },
    {
      "cell_type": "code",
      "metadata": {
        "id": "4MgrRcwuRurA",
        "colab_type": "code",
        "outputId": "2de42387-bf1c-47a5-94ef-1174cf24d2da",
        "colab": {
          "base_uri": "https://localhost:8080/",
          "height": 319
        }
      },
      "source": [
        "#CNN model for determinant\n",
        "detmodel2.fit(train_set3, determinant_set, epochs=8, batch_size=100)\n",
        "detmodel2.evaluate(val_set3, val_determinant_set)"
      ],
      "execution_count": 0,
      "outputs": [
        {
          "output_type": "stream",
          "text": [
            "Epoch 1/8\n",
            "40000/40000 [==============================] - 1s 32us/step - loss: 2.2634\n",
            "Epoch 2/8\n",
            "40000/40000 [==============================] - 1s 30us/step - loss: 2.2631\n",
            "Epoch 3/8\n",
            "40000/40000 [==============================] - 1s 30us/step - loss: 2.2631\n",
            "Epoch 4/8\n",
            "40000/40000 [==============================] - 1s 29us/step - loss: 2.2631\n",
            "Epoch 5/8\n",
            "40000/40000 [==============================] - 1s 30us/step - loss: 2.2631\n",
            "Epoch 6/8\n",
            "40000/40000 [==============================] - 1s 29us/step - loss: 2.2631\n",
            "Epoch 7/8\n",
            "40000/40000 [==============================] - 1s 30us/step - loss: 2.2631\n",
            "Epoch 8/8\n",
            "40000/40000 [==============================] - 1s 30us/step - loss: 2.2631\n",
            "10000/10000 [==============================] - 0s 27us/step\n"
          ],
          "name": "stdout"
        },
        {
          "output_type": "execute_result",
          "data": {
            "text/plain": [
              "2.3721099333763123"
            ]
          },
          "metadata": {
            "tags": []
          },
          "execution_count": 54
        }
      ]
    },
    {
      "cell_type": "code",
      "metadata": {
        "id": "XW3C5Zjdw-bA",
        "colab_type": "code",
        "outputId": "0f5c79e5-8c5c-4c9f-e4b3-2c1c2cd01679",
        "colab": {
          "base_uri": "https://localhost:8080/",
          "height": 1000
        }
      },
      "source": [
        "#Eigenvalue modeling\n",
        "print(eigenvalue_set.shape)\n",
        "\n",
        "eigenmodel = models.Sequential()\n",
        "\n",
        "# # Configure a convnet with 3 layers of convolutions and max pooling.\n",
        "# model.add(layers.Conv2D(32, (3, 3), activation='relu', input_shape=(28, 28, 1)))\n",
        "# model.add(layers.MaxPooling2D((2, 2)))\n",
        "# model.add(layers.Conv2D(64, (3, 3), activation='relu'))\n",
        "# model.add(layers.MaxPooling2D((2, 2)))\n",
        "# model.add(layers.Conv2D(64, (3, 3), activation='relu'))\n",
        "# model.add(layers.Flatten())\n",
        "\n",
        "# Add layers to flatten the 2D image and then do a 10-way classification.\n",
        "\n",
        "eigenmodel.add(layers.Dense(n**2, activation='relu',input_dim=n**2))\n",
        "eigenmodel.add(layers.Dense(50, activation='relu',input_dim=n**2))\n",
        "eigenmodel.add(layers.Dense(50, activation='relu',input_dim=n**2))\n",
        "eigenmodel.add(layers.Dense(n, activation='relu'))\n",
        "eigenmodel.compile(optimizer='adam',\n",
        "              loss='mean_squared_error')\n",
        "eigenmodel.summary()\n",
        "eigenmodel.fit(train_set2, eigenvalue_set, epochs=20, batch_size=1000)\n",
        "eigenmodel.evaluate(val_set2, val_eigenvalue_set)"
      ],
      "execution_count": 0,
      "outputs": [
        {
          "output_type": "stream",
          "text": [
            "(40000, 7)\n",
            "Model: \"sequential_13\"\n",
            "_________________________________________________________________\n",
            "Layer (type)                 Output Shape              Param #   \n",
            "=================================================================\n",
            "dense_28 (Dense)             (None, 49)                2450      \n",
            "_________________________________________________________________\n",
            "dense_29 (Dense)             (None, 50)                2500      \n",
            "_________________________________________________________________\n",
            "dense_30 (Dense)             (None, 50)                2550      \n",
            "_________________________________________________________________\n",
            "dense_31 (Dense)             (None, 7)                 357       \n",
            "=================================================================\n",
            "Total params: 7,857\n",
            "Trainable params: 7,857\n",
            "Non-trainable params: 0\n",
            "_________________________________________________________________\n",
            "Epoch 1/20\n",
            "40000/40000 [==============================] - 0s 7us/step - loss: 0.8205\n",
            "Epoch 2/20\n",
            "40000/40000 [==============================] - 0s 4us/step - loss: 0.8158\n",
            "Epoch 3/20\n",
            "40000/40000 [==============================] - 0s 4us/step - loss: 0.8135\n",
            "Epoch 4/20\n",
            "40000/40000 [==============================] - 0s 4us/step - loss: 0.8050\n",
            "Epoch 5/20\n",
            "40000/40000 [==============================] - 0s 4us/step - loss: 0.7957\n",
            "Epoch 6/20\n",
            "40000/40000 [==============================] - 0s 4us/step - loss: 0.7929\n",
            "Epoch 7/20\n",
            "40000/40000 [==============================] - 0s 4us/step - loss: 0.7911\n",
            "Epoch 8/20\n",
            "40000/40000 [==============================] - 0s 4us/step - loss: 0.7886\n",
            "Epoch 9/20\n",
            "40000/40000 [==============================] - 0s 4us/step - loss: 0.7866\n",
            "Epoch 10/20\n",
            "40000/40000 [==============================] - 0s 4us/step - loss: 0.7854\n",
            "Epoch 11/20\n",
            "40000/40000 [==============================] - 0s 4us/step - loss: 0.7842\n",
            "Epoch 12/20\n",
            "40000/40000 [==============================] - 0s 5us/step - loss: 0.7830\n",
            "Epoch 13/20\n",
            "40000/40000 [==============================] - 0s 4us/step - loss: 0.7818\n",
            "Epoch 14/20\n",
            "40000/40000 [==============================] - 0s 4us/step - loss: 0.7806\n",
            "Epoch 15/20\n",
            "40000/40000 [==============================] - 0s 4us/step - loss: 0.7795\n",
            "Epoch 16/20\n",
            "40000/40000 [==============================] - 0s 4us/step - loss: 0.7781\n",
            "Epoch 17/20\n",
            "40000/40000 [==============================] - 0s 4us/step - loss: 0.7769\n",
            "Epoch 18/20\n",
            "40000/40000 [==============================] - 0s 4us/step - loss: 0.7757\n",
            "Epoch 19/20\n",
            "40000/40000 [==============================] - 0s 4us/step - loss: 0.7744\n",
            "Epoch 20/20\n",
            "40000/40000 [==============================] - 0s 4us/step - loss: 0.7732\n",
            "10000/10000 [==============================] - 0s 20us/step\n"
          ],
          "name": "stdout"
        },
        {
          "output_type": "execute_result",
          "data": {
            "text/plain": [
              "0.8561437980651856"
            ]
          },
          "metadata": {
            "tags": []
          },
          "execution_count": 45
        }
      ]
    }
  ]
}