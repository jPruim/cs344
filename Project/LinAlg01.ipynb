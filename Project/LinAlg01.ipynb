{
  "nbformat": 4,
  "nbformat_minor": 0,
  "metadata": {
    "colab": {
      "name": "LinAlg01.ipynb",
      "provenance": [],
      "authorship_tag": "ABX9TyMwy0S/APNHXM9uX+K+/bUC",
      "include_colab_link": true
    },
    "kernelspec": {
      "name": "python3",
      "display_name": "Python 3"
    }
  },
  "cells": [
    {
      "cell_type": "markdown",
      "metadata": {
        "id": "view-in-github",
        "colab_type": "text"
      },
      "source": [
        "<a href=\"https://colab.research.google.com/github/jPruim/cs344/blob/master/Project/LinAlg01.ipynb\" target=\"_parent\"><img src=\"https://colab.research.google.com/assets/colab-badge.svg\" alt=\"Open In Colab\"/></a>"
      ]
    },
    {
      "cell_type": "code",
      "metadata": {
        "id": "Our_qENHQKdO",
        "colab_type": "code",
        "colab": {}
      },
      "source": [
        "import numpy as np\n",
        "from keras import layers\n",
        "from keras import models\n",
        "import numpy.linalg as linalg"
      ],
      "execution_count": 0,
      "outputs": []
    },
    {
      "cell_type": "code",
      "metadata": {
        "id": "wLjwN7XsUhmf",
        "colab_type": "code",
        "colab": {
          "base_uri": "https://localhost:8080/",
          "height": 302
        },
        "outputId": "e98fcc17-3913-4bc6-8646-b6fe70968100"
      },
      "source": [
        "#create datasets\n",
        "n = 7\n",
        "train_set_size = 40000\n",
        "train_set=np.random.random(size=(train_set_size, n, n))\n",
        "print(train_set[:1])\n",
        "print(len(train_set))\n",
        "\n",
        "val_set_size = 10000\n",
        "val_set=np.random.random(size=(val_set_size, n, n))\n",
        "\n",
        "\n",
        "\n",
        "train_set2 = np.empty((train_set_size,n**2))\n",
        "for i in range(train_set_size):\n",
        "  train_set2[i] = np.ravel(train_set[i])\n",
        "train_set2.reshape(train_set_size,n**2,1)\n",
        "print(train_set2.shape)\n",
        "\n",
        "val_set2 = np.empty((val_set_size,n**2))\n",
        "for i in range(val_set_size):\n",
        "  val_set2[i] = np.ravel(val_set[i])\n",
        "val_set2.reshape(val_set_size,n**2,1)\n",
        "print(val_set2.shape)\n",
        "\n"
      ],
      "execution_count": 112,
      "outputs": [
        {
          "output_type": "stream",
          "text": [
            "[[[0.27640782 0.1040939  0.79938249 0.37846845 0.13385146 0.72378428\n",
            "   0.61083682]\n",
            "  [0.98272343 0.9109083  0.43232022 0.74286673 0.25447222 0.2828232\n",
            "   0.53506361]\n",
            "  [0.73696856 0.27627525 0.79838605 0.31227543 0.59163704 0.87125234\n",
            "   0.29630006]\n",
            "  [0.49127233 0.47058831 0.60577803 0.27190129 0.12667971 0.71698486\n",
            "   0.03890758]\n",
            "  [0.53509245 0.77906731 0.23393789 0.66332745 0.12369734 0.44855198\n",
            "   0.55908182]\n",
            "  [0.51597897 0.76077128 0.5917822  0.31844521 0.56471706 0.36926457\n",
            "   0.94358938]\n",
            "  [0.92479918 0.36055538 0.44978174 0.19908274 0.46096184 0.31350879\n",
            "   0.03724383]]]\n",
            "40000\n",
            "(40000, 49)\n",
            "(10000, 49)\n"
          ],
          "name": "stdout"
        }
      ]
    },
    {
      "cell_type": "code",
      "metadata": {
        "id": "KSWuqnlXYM_u",
        "colab_type": "code",
        "colab": {
          "base_uri": "https://localhost:8080/",
          "height": 34
        },
        "outputId": "7a543722-075c-4d40-a5ad-d79946db1f6e"
      },
      "source": [
        "#generate determinant labels\n",
        "determinant_set_size = train_set_size\n",
        "determinant_set = np.empty((determinant_set_size,1))\n",
        "for i in range(0,determinant_set_size): \n",
        "  determinant_set[i]=linalg.det(train_set[i])\n",
        "\n",
        "val_determinant_set_size = val_set_size\n",
        "val_determinant_set = np.empty((val_set_size,1))\n",
        "for i in range(0,val_determinant_set_size): \n",
        "  val_determinant_set[i]= linalg.det(val_set[i])\n",
        "\n",
        "print(determinant_set.shape)"
      ],
      "execution_count": 113,
      "outputs": [
        {
          "output_type": "stream",
          "text": [
            "(40000, 1)\n"
          ],
          "name": "stdout"
        }
      ]
    },
    {
      "cell_type": "code",
      "metadata": {
        "id": "DyTNtRurZtS9",
        "colab_type": "code",
        "colab": {
          "base_uri": "https://localhost:8080/",
          "height": 84
        },
        "outputId": "8afb0847-da94-41a8-fab8-c1fc55d21e85"
      },
      "source": [
        "#generate eigenvalue labels\n",
        "eigenvalue_set_size = train_set_size\n",
        "eigenvalue_set = np.empty((eigenvalue_set_size,n))\n",
        "for i in range(0,train_set_size):\n",
        "  eigenValues= linalg.eigvals(train_set[i])\n",
        "  eigenvalue_set[i]= eigenValues\n",
        "\n",
        "val_eigenvalue_set_size = val_set_size\n",
        "val_eigenvalue_set = np.empty((val_eigenvalue_set_size,n))\n",
        "for i in range(0,val_eigenvalue_set_size): \n",
        "  eigenValues = linalg.eigvals(train_set[i])\n",
        "  val_eigenvalue_set[i]= eigenValues"
      ],
      "execution_count": 119,
      "outputs": [
        {
          "output_type": "stream",
          "text": [
            "/usr/local/lib/python3.6/dist-packages/ipykernel_launcher.py:6: ComplexWarning: Casting complex values to real discards the imaginary part\n",
            "  \n",
            "/usr/local/lib/python3.6/dist-packages/ipykernel_launcher.py:12: ComplexWarning: Casting complex values to real discards the imaginary part\n",
            "  if sys.path[0] == '':\n"
          ],
          "name": "stderr"
        }
      ]
    },
    {
      "cell_type": "code",
      "metadata": {
        "id": "ktg3KA1-aHlA",
        "colab_type": "code",
        "colab": {
          "base_uri": "https://localhost:8080/",
          "height": 286
        },
        "outputId": "01219e6d-786e-4db4-b755-d677d327ccac"
      },
      "source": [
        "#start modeling.\n",
        "#determinant modeling\n",
        "model = models.Sequential()\n",
        "\n",
        "model.add(layers.Dense(n**2, activation='relu',input_dim=n**2))\n",
        "model.add(layers.Dense(50, activation='relu',input_dim=n**2))\n",
        "model.add(layers.Dense(50, activation='relu',input_dim=n**2))\n",
        "model.add(layers.Dense(1, activation='relu'))\n",
        "model.compile(optimizer='adam',\n",
        "              loss='mean_squared_error')\n",
        "model.summary()"
      ],
      "execution_count": 120,
      "outputs": [
        {
          "output_type": "stream",
          "text": [
            "Model: \"sequential_39\"\n",
            "_________________________________________________________________\n",
            "Layer (type)                 Output Shape              Param #   \n",
            "=================================================================\n",
            "dense_101 (Dense)            (None, 49)                2450      \n",
            "_________________________________________________________________\n",
            "dense_102 (Dense)            (None, 50)                2500      \n",
            "_________________________________________________________________\n",
            "dense_103 (Dense)            (None, 50)                2550      \n",
            "_________________________________________________________________\n",
            "dense_104 (Dense)            (None, 1)                 51        \n",
            "=================================================================\n",
            "Total params: 7,551\n",
            "Trainable params: 7,551\n",
            "Non-trainable params: 0\n",
            "_________________________________________________________________\n"
          ],
          "name": "stdout"
        }
      ]
    },
    {
      "cell_type": "code",
      "metadata": {
        "id": "Gklo_Z5Mi-Ww",
        "colab_type": "code",
        "colab": {
          "base_uri": "https://localhost:8080/",
          "height": 722
        },
        "outputId": "863e7b9b-899d-46a0-fd41-7b7f9e721bac"
      },
      "source": [
        "model.fit(train_set2, determinant_set, epochs=20, batch_size=1000)\n",
        "model.evaluate(val_set2, val_determinant_set)"
      ],
      "execution_count": 121,
      "outputs": [
        {
          "output_type": "stream",
          "text": [
            "Epoch 1/20\n",
            "40000/40000 [==============================] - 0s 8us/step - loss: 0.0032\n",
            "Epoch 2/20\n",
            "40000/40000 [==============================] - 0s 5us/step - loss: 0.0030\n",
            "Epoch 3/20\n",
            "40000/40000 [==============================] - 0s 5us/step - loss: 0.0030\n",
            "Epoch 4/20\n",
            "40000/40000 [==============================] - 0s 4us/step - loss: 0.0030\n",
            "Epoch 5/20\n",
            "40000/40000 [==============================] - 0s 5us/step - loss: 0.0030\n",
            "Epoch 6/20\n",
            "40000/40000 [==============================] - 0s 5us/step - loss: 0.0030\n",
            "Epoch 7/20\n",
            "40000/40000 [==============================] - 0s 5us/step - loss: 0.0030\n",
            "Epoch 8/20\n",
            "40000/40000 [==============================] - 0s 5us/step - loss: 0.0030\n",
            "Epoch 9/20\n",
            "40000/40000 [==============================] - 0s 5us/step - loss: 0.0030\n",
            "Epoch 10/20\n",
            "40000/40000 [==============================] - 0s 5us/step - loss: 0.0030\n",
            "Epoch 11/20\n",
            "40000/40000 [==============================] - 0s 5us/step - loss: 0.0030\n",
            "Epoch 12/20\n",
            "40000/40000 [==============================] - 0s 5us/step - loss: 0.0030\n",
            "Epoch 13/20\n",
            "40000/40000 [==============================] - 0s 5us/step - loss: 0.0030\n",
            "Epoch 14/20\n",
            "40000/40000 [==============================] - 0s 5us/step - loss: 0.0030\n",
            "Epoch 15/20\n",
            "40000/40000 [==============================] - 0s 5us/step - loss: 0.0030\n",
            "Epoch 16/20\n",
            "40000/40000 [==============================] - 0s 6us/step - loss: 0.0030\n",
            "Epoch 17/20\n",
            "40000/40000 [==============================] - 0s 4us/step - loss: 0.0030\n",
            "Epoch 18/20\n",
            "40000/40000 [==============================] - 0s 5us/step - loss: 0.0030\n",
            "Epoch 19/20\n",
            "40000/40000 [==============================] - 0s 5us/step - loss: 0.0030\n",
            "Epoch 20/20\n",
            "40000/40000 [==============================] - 0s 4us/step - loss: 0.0030\n",
            "10000/10000 [==============================] - 0s 18us/step\n"
          ],
          "name": "stdout"
        },
        {
          "output_type": "execute_result",
          "data": {
            "text/plain": [
              "0.003230101441871375"
            ]
          },
          "metadata": {
            "tags": []
          },
          "execution_count": 121
        }
      ]
    },
    {
      "cell_type": "code",
      "metadata": {
        "id": "XW3C5Zjdw-bA",
        "colab_type": "code",
        "colab": {
          "base_uri": "https://localhost:8080/",
          "height": 1000
        },
        "outputId": "42881522-389f-4754-f1da-382f247d6843"
      },
      "source": [
        "#Eigenvalue modeling\n",
        "print(eigenvalue_set.shape)\n",
        "\n",
        "eigenmodel = models.Sequential()\n",
        "\n",
        "# # Configure a convnet with 3 layers of convolutions and max pooling.\n",
        "# model.add(layers.Conv2D(32, (3, 3), activation='relu', input_shape=(28, 28, 1)))\n",
        "# model.add(layers.MaxPooling2D((2, 2)))\n",
        "# model.add(layers.Conv2D(64, (3, 3), activation='relu'))\n",
        "# model.add(layers.MaxPooling2D((2, 2)))\n",
        "# model.add(layers.Conv2D(64, (3, 3), activation='relu'))\n",
        "# model.add(layers.Flatten())\n",
        "\n",
        "# Add layers to flatten the 2D image and then do a 10-way classification.\n",
        "\n",
        "eigenmodel.add(layers.Dense(n**2, activation='relu',input_dim=n**2))\n",
        "eigenmodel.add(layers.Dense(50, activation='relu',input_dim=n**2))\n",
        "eigenmodel.add(layers.Dense(50, activation='relu',input_dim=n**2))\n",
        "eigenmodel.add(layers.Dense(n, activation='relu'))\n",
        "eigenmodel.compile(optimizer='adam',\n",
        "              loss='mean_squared_error')\n",
        "eigenmodel.summary()\n",
        "eigenmodel.fit(train_set2, eigenvalue_set, epochs=20, batch_size=1000)\n",
        "eigenmodel.evaluate(val_set2, val_eigenvalue_set)"
      ],
      "execution_count": 122,
      "outputs": [
        {
          "output_type": "stream",
          "text": [
            "(40000, 7)\n",
            "Model: \"sequential_40\"\n",
            "_________________________________________________________________\n",
            "Layer (type)                 Output Shape              Param #   \n",
            "=================================================================\n",
            "dense_105 (Dense)            (None, 49)                2450      \n",
            "_________________________________________________________________\n",
            "dense_106 (Dense)            (None, 50)                2500      \n",
            "_________________________________________________________________\n",
            "dense_107 (Dense)            (None, 50)                2550      \n",
            "_________________________________________________________________\n",
            "dense_108 (Dense)            (None, 7)                 357       \n",
            "=================================================================\n",
            "Total params: 7,857\n",
            "Trainable params: 7,857\n",
            "Non-trainable params: 0\n",
            "_________________________________________________________________\n",
            "Epoch 1/20\n",
            "40000/40000 [==============================] - 0s 7us/step - loss: 0.7006\n",
            "Epoch 2/20\n",
            "40000/40000 [==============================] - 0s 5us/step - loss: 0.1714\n",
            "Epoch 3/20\n",
            "40000/40000 [==============================] - 0s 5us/step - loss: 0.1654\n",
            "Epoch 4/20\n",
            "40000/40000 [==============================] - 0s 5us/step - loss: 0.1637\n",
            "Epoch 5/20\n",
            "40000/40000 [==============================] - 0s 5us/step - loss: 0.1623\n",
            "Epoch 6/20\n",
            "40000/40000 [==============================] - 0s 5us/step - loss: 0.1605\n",
            "Epoch 7/20\n",
            "40000/40000 [==============================] - 0s 5us/step - loss: 0.1589\n",
            "Epoch 8/20\n",
            "40000/40000 [==============================] - 0s 5us/step - loss: 0.1581\n",
            "Epoch 9/20\n",
            "40000/40000 [==============================] - 0s 5us/step - loss: 0.1578\n",
            "Epoch 10/20\n",
            "40000/40000 [==============================] - 0s 5us/step - loss: 0.1577\n",
            "Epoch 11/20\n",
            "40000/40000 [==============================] - 0s 5us/step - loss: 0.1577\n",
            "Epoch 12/20\n",
            "40000/40000 [==============================] - 0s 5us/step - loss: 0.1576\n",
            "Epoch 13/20\n",
            "40000/40000 [==============================] - 0s 5us/step - loss: 0.1576\n",
            "Epoch 14/20\n",
            "40000/40000 [==============================] - 0s 5us/step - loss: 0.1576\n",
            "Epoch 15/20\n",
            "40000/40000 [==============================] - 0s 5us/step - loss: 0.1576\n",
            "Epoch 16/20\n",
            "40000/40000 [==============================] - 0s 5us/step - loss: 0.1576\n",
            "Epoch 17/20\n",
            "40000/40000 [==============================] - 0s 5us/step - loss: 0.1576\n",
            "Epoch 18/20\n",
            "40000/40000 [==============================] - 0s 5us/step - loss: 0.1575\n",
            "Epoch 19/20\n",
            "40000/40000 [==============================] - 0s 5us/step - loss: 0.1575\n",
            "Epoch 20/20\n",
            "40000/40000 [==============================] - 0s 5us/step - loss: 0.1575\n",
            "10000/10000 [==============================] - 0s 18us/step\n"
          ],
          "name": "stdout"
        },
        {
          "output_type": "execute_result",
          "data": {
            "text/plain": [
              "0.18005071716308593"
            ]
          },
          "metadata": {
            "tags": []
          },
          "execution_count": 122
        }
      ]
    }
  ]
}