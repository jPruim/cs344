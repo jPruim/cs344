{
  "nbformat": 4,
  "nbformat_minor": 0,
  "metadata": {
    "colab": {
      "name": "updates.ipynb",
      "provenance": [],
      "authorship_tag": "ABX9TyMEph2nY3fH0MxpUmMxKC1J",
      "include_colab_link": true
    },
    "kernelspec": {
      "name": "python3",
      "display_name": "Python 3"
    }
  },
  "cells": [
    {
      "cell_type": "markdown",
      "metadata": {
        "id": "view-in-github",
        "colab_type": "text"
      },
      "source": [
        "<a href=\"https://colab.research.google.com/github/jPruim/cs344/blob/master/finalproject/updates.ipynb\" target=\"_parent\"><img src=\"https://colab.research.google.com/assets/colab-badge.svg\" alt=\"Open In Colab\"/></a>"
      ]
    },
    {
      "cell_type": "markdown",
      "metadata": {
        "id": "-qAMbHL4U32p",
        "colab_type": "text"
      },
      "source": [
        "Since the walk through, I have figured out the l2 loss problem (it is actually just the average squared difference for each output). I got different models to converge to the correct values in the training set. Added in more functionality and better models everywhere. Commented some of the code blocks. Wrote the report. "
      ]
    }
  ]
}