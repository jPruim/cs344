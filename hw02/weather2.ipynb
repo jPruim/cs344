{
 "nbformat": 4,
 "nbformat_minor": 2,
 "metadata": {
  "language_info": {
   "name": "python",
   "codemirror_mode": {
    "name": "ipython",
    "version": 3
   },
   "version": "3.7.1-final"
  },
  "orig_nbformat": 2,
  "file_extension": ".py",
  "mimetype": "text/x-python",
  "name": "python",
  "npconvert_exporter": "python",
  "pygments_lexer": "ipython3",
  "version": 3,
  "kernelspec": {
   "name": "python37132bit1cb69b4b17ee4d86a04ff6a4d2a23f74",
   "display_name": "Python 3.7.1 32-bit"
  }
 },
 "cells": [
  {
   "cell_type": "code",
   "execution_count": 2,
   "metadata": {},
   "outputs": [
    {
     "name": "stdout",
     "output_type": "stream",
     "text": "Excercise 5.1\nFalse: 0.5, True: 0.5\nFalse: 0.9, True: 0.1\nFalse: 0.952, True: 0.0476\nFalse: 0.01, True: 0.99\nFalse: 0.639, True: 0.361\n"
    }
   ],
   "source": [
    "'''\n",
    "This module implements the Bayesian network shown in the text, Figure 14.2.\n",
    "It's taken from the AIMA Python code.\n",
    "\n",
    "@author: kvlinden\n",
    "@version Jan 2, 2013\n",
    "'''\n",
    "import sys\n",
    "# sys.path.insert(0,\"/home/jrp27/Documents/cs344-code/tools/aima\")\n",
    "# sys.path.insert(0,\"/home/jrp27/Documents/cs344-code/tools/paip\")\n",
    "sys.path.insert(0,r\"D:\\jason\\Documents\\Spring2020\\CS344\\cs344-code\\tools\\aima\")\n",
    "sys.path.insert(0,r\"D:\\jason\\Documents\\Spring2020\\CS344\\cs344-code\\paip\")\n",
    "from probability import BayesNet, enumeration_ask, elimination_ask, gibbs_ask\n",
    "\n",
    "# Utility variables\n",
    "T, F = True, False\n",
    "\n",
    "# From AIMA code (probability.py) - Fig. 14.2 - burglary example\n",
    "weather = BayesNet([\n",
    "    ('Cloudy', '', 0.5),\n",
    "    ('Sprinkler', 'Cloudy',{T:0.1, F:0.5}),\n",
    "    ('Rain', 'Cloudy',{T:0.8, F:0.2}),\n",
    "    ('WetGrass', 'Sprinkler Rain', {(T, T): 0.99, (T, F): 0.90, (F, T): 0.90, (F, F): 0.00})\n",
    "    ])\n",
    "\n",
    "print(\"Excercise 5.1\")\n",
    "print(enumeration_ask('Cloudy', dict(), weather).show_approx())\n",
    "print(enumeration_ask('Sprinkler', dict(Cloudy = T), weather).show_approx())\n",
    "print(enumeration_ask('Cloudy', dict(Sprinkler = T, Rain = F), weather).show_approx())\n",
    "print(enumeration_ask('WetGrass', dict(Cloudy = T, Sprinkler = T, Rain = T), weather).show_approx())\n",
    "print(enumeration_ask('Cloudy', dict(WetGrass = F), weather).show_approx())\n",
    "\n"
   ]
  },
  {
   "cell_type": "code",
   "execution_count": null,
   "metadata": {},
   "outputs": [],
   "source": [
    "\"\"\"\n",
    "Manual probabilities\n",
    "P(C) = 0.5 from reading the chart\n",
    "\n",
    "P(S|C) = 0.1\n",
    "\n",
    "P(!R && S) = 0.5 * 0.1 * 0.2 + 0.5 * 0.5 * 0.8 = 0.21\n",
    "P(C|S && !R) = P(C && !R && S)/P(!R && S) = ( 0.5 * 0.1 * 0.2 )/(0.5 * 0.1 * 0.2 + 0.5 * 0.5 * 0.8 ) = 0.44\n",
    "\n",
    "\n",
    "P(W|C, S, R) = 0.99 off chart\n",
    "\n",
    "P(!W && C) = 0.5 * (0.1 * (0.8 * 0.01 + 0.2 * 0.1) + 0.9 * (0.8 * 0.1 + 0.2 * 1)) = 0.1274\n",
    "P(!W && !C) = 0.5 * (0.5 * (0.2 * 0.01 + 0.8 * 0.1) + 0.5 * (0.2 * 0.1 + 0.8 * 1)) = 0.2255\n",
    "P(C|!W) = P(C && !W)/P(!W) = 0.1274/(0.1274+0.2255) = 0.361\n",
    "\n",
    "\n",
    "\n",
    "\n",
    "\"\"\"\n",
    "\n",
    "\n",
    "\n",
    "\n",
    "\n",
    "\n",
    "\n",
    "\n",
    "\n",
    "\n",
    "\n",
    "\n",
    "\n",
    "\n",
    "\n",
    "\n",
    "\n",
    "\n",
    "\n",
    "\n",
    "\n",
    "\n",
    "\n",
    "\n",
    "\n",
    "\n",
    "\n",
    "\n"
   ]
  }
 ]
}