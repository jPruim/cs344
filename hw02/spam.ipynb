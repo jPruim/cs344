{
 "nbformat": 4,
 "nbformat_minor": 2,
 "metadata": {
  "language_info": {
   "name": "python",
   "codemirror_mode": {
    "name": "ipython",
    "version": 3
   },
   "version": "3.7.1-final"
  },
  "orig_nbformat": 2,
  "file_extension": ".py",
  "mimetype": "text/x-python",
  "name": "python",
  "npconvert_exporter": "python",
  "pygments_lexer": "ipython3",
  "version": 3,
  "kernelspec": {
   "name": "python37132bit1cb69b4b17ee4d86a04ff6a4d2a23f74",
   "display_name": "Python 3.7.1 32-bit"
  }
 },
 "cells": [
  {
   "cell_type": "code",
   "execution_count": 1,
   "metadata": {},
   "outputs": [
    {
     "name": "stdout",
     "output_type": "stream",
     "text": "Word ---- Probability of spam being email\nI----0.99\nam----0.99\nspam----0.99\nspam----0.99\nI----0.99\nam----0.99\nI----0.99\ndo----0.3333333333333333\nnot----0\nlike----0.3333333333333333\nthat----0\nspamiam----0\ndo----0.3333333333333333\ni----0.01\nlike----0.3333333333333333\ngreen----0.01\neggs----0.01\nand----0.01\nham----0.01\ni----0.01\ndo----0.3333333333333333\n"
    }
   ],
   "source": [
    "\"\"\"\n",
    "Creating a spam filter in python\n",
    "For CS344\n",
    "At Calvin University.\n",
    "Jason Pruim\n",
    "Spring 2020\n",
    "\"\"\"\n",
    "\n",
    "spam_corpus = [[\"I\", \"am\", \"spam\", \"spam\", \"I\", \"am\"], [\"I\", \"do\", \"not\", \"like\", \"that\", \"spamiam\"]]\n",
    "ham_corpus = [[\"do\", \"i\", \"like\", \"green\", \"eggs\", \"and\", \"ham\"], [\"i\", \"do\"]]\n",
    "good = {}\n",
    "bad = {}\n",
    "\n",
    "def computeWordworth(word):\n",
    "    num_bad = 2\n",
    "    num_good = 2\n",
    "    if word in good:\n",
    "        g = 2 * good[word]    #is there a reason for the 2* in the algorithm?\n",
    "    else:\n",
    "        g = 0\n",
    "    if word in bad:\n",
    "        b = bad[word]\n",
    "    else:\n",
    "        b = 0\n",
    "    if (b+g)>1:\n",
    "        return max(.01, min(.99, min(1, b/num_bad) / (min(1, g/num_good) + min( 1, b/num_bad)) ))\n",
    "    return 0\n",
    "\n",
    "if __name__ == \"__main__\":\n",
    "    for email in spam_corpus:\n",
    "        for word in email:\n",
    "            if word in bad:\n",
    "                bad[word] +=1\n",
    "            else:\n",
    "                bad[word] = 1\n",
    "\n",
    "    for email in ham_corpus:\n",
    "        for word in email:\n",
    "            if word in good:\n",
    "                good[word] +=1\n",
    "            else:\n",
    "                good[word] = 1\n",
    "    email_list = [[\"I\", \"am\", \"spam\", \"spam\", \"I\", \"am\"], [\"I\", \"do\", \"not\", \"like\", \"that\", \"spamiam\"],[\"do\", \"i\", \"like\", \"green\", \"eggs\", \"and\", \"ham\"], [\"i\", \"do\"]]\n",
    "    print(\"Word ---- Probability of spam being email\")\n",
    "    for email in email_list:\n",
    "        for word in email:\n",
    "            print(word + \"----\" + str(computeWordworth(word)))\n",
    "\n",
    "            \"\"\"\n",
    "            The program is arguably baysian as computes P(spam|words) based on the occurence of words in spam. This is kind of swapping the order of two conditional probabilities. (Swapping from words causing spam to spam given words). \n",
    "            \"\"\"\n"
   ]
  },
  {
   "cell_type": "code",
   "execution_count": null,
   "metadata": {},
   "outputs": [],
   "source": []
  }
 ]
}